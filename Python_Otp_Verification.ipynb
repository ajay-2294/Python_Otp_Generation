{
 "cells": [
  {
   "cell_type": "code",
   "execution_count": 4,
   "id": "50aa0ed9",
   "metadata": {},
   "outputs": [
    {
     "data": {
      "application/vnd.jupyter.widget-view+json": {
       "model_id": "89e7b3f39bd446dea6a78a10efe1b7ba",
       "version_major": 2,
       "version_minor": 0
      },
      "text/plain": [
       "Text(value='', description='Email:')"
      ]
     },
     "metadata": {},
     "output_type": "display_data"
    },
    {
     "data": {
      "application/vnd.jupyter.widget-view+json": {
       "model_id": "e010c29c609e485c9021d7626ce47556",
       "version_major": 2,
       "version_minor": 0
      },
      "text/plain": [
       "Button(description='Send OTP', style=ButtonStyle())"
      ]
     },
     "metadata": {},
     "output_type": "display_data"
    },
    {
     "data": {
      "application/vnd.jupyter.widget-view+json": {
       "model_id": "df530c3a5f354aa799b646a9194e7af5",
       "version_major": 2,
       "version_minor": 0
      },
      "text/plain": [
       "Label(value='')"
      ]
     },
     "metadata": {},
     "output_type": "display_data"
    },
    {
     "data": {
      "application/vnd.jupyter.widget-view+json": {
       "model_id": "3c102448eea147778802ae5184e892e5",
       "version_major": 2,
       "version_minor": 0
      },
      "text/plain": [
       "Label(value='')"
      ]
     },
     "metadata": {},
     "output_type": "display_data"
    },
    {
     "data": {
      "application/vnd.jupyter.widget-view+json": {
       "model_id": "3023ac69dbca4e27928038607ea1af4d",
       "version_major": 2,
       "version_minor": 0
      },
      "text/plain": [
       "Text(value='', description='Enter OTP:', layout=Layout(visibility='hidden'))"
      ]
     },
     "metadata": {},
     "output_type": "display_data"
    },
    {
     "data": {
      "application/vnd.jupyter.widget-view+json": {
       "model_id": "6d17ec98f9da47f9a0269f994a3991b4",
       "version_major": 2,
       "version_minor": 0
      },
      "text/plain": [
       "Text(value='', description='Enter CAPTCHA:', layout=Layout(visibility='hidden'))"
      ]
     },
     "metadata": {},
     "output_type": "display_data"
    },
    {
     "data": {
      "application/vnd.jupyter.widget-view+json": {
       "model_id": "2d9f331a4b28473180ebd5a249f846ab",
       "version_major": 2,
       "version_minor": 0
      },
      "text/plain": [
       "Button(description='Validate OTP and CAPTCHA', layout=Layout(visibility='hidden'), style=ButtonStyle())"
      ]
     },
     "metadata": {},
     "output_type": "display_data"
    },
    {
     "data": {
      "application/vnd.jupyter.widget-view+json": {
       "model_id": "a3ff9b24530f463b8fa4e397aba35708",
       "version_major": 2,
       "version_minor": 0
      },
      "text/plain": [
       "Label(value='')"
      ]
     },
     "metadata": {},
     "output_type": "display_data"
    }
   ],
   "source": [
    "import random\n",
    "import string\n",
    "import smtplib\n",
    "from email.mime.text import MIMEText\n",
    "import ipywidgets as widgets\n",
    "from IPython.display import display\n",
    "\n",
    "# Generate a 6-digit OTP\n",
    "def generate_otp():\n",
    "    return str(random.randint(100000, 999999))\n",
    "\n",
    "# Generate a simple CAPTCHA\n",
    "def generate_captcha():\n",
    "    return ''.join(random.choices(string.ascii_uppercase + string.digits, k=6))\n",
    "\n",
    "# Simulate sending OTP via email\n",
    "def send_otp_email(receiver_email, otp):\n",
    "    sender_email = \"ajay.kudalkar2024@gmail.com\"  # Your sender email\n",
    "    sender_password = \"rnyd qgna ufvy rnku\"  # Your email password\n",
    "    \n",
    "    subject = \"Your OTP Code\"\n",
    "    body = f\"Your One-Time Password (OTP) is: {otp}\\nThis OTP is valid for 5 minutes.\"\n",
    "    \n",
    "    msg = MIMEText(body)\n",
    "    msg[\"Subject\"] = subject\n",
    "    msg[\"From\"] = sender_email\n",
    "    msg[\"To\"] = receiver_email\n",
    "    \n",
    "    try:\n",
    "        with smtplib.SMTP(\"smtp.gmail.com\", 587) as server:\n",
    "            server.starttls()\n",
    "            server.login(sender_email, sender_password)\n",
    "            server.sendmail(sender_email, receiver_email, msg.as_string())\n",
    "        return True  # Simulate successful email sending\n",
    "    except Exception as e:\n",
    "        print(\"Error sending email:\", e)\n",
    "        return False\n",
    "\n",
    "# Validate OTP and CAPTCHA\n",
    "def validate_otp_and_captcha(otp, captcha, otp_input, captcha_input):\n",
    "    if otp_input == otp:\n",
    "        if captcha_input == captcha:\n",
    "            return \"OTP and CAPTCHA validated successfully!\"\n",
    "        else:\n",
    "            return \"Incorrect CAPTCHA. Please try again.\"\n",
    "    else:\n",
    "        return \"Incorrect OTP. Please try again.\"\n",
    "\n",
    "# Generate OTP, CAPTCHA, and simulate sending OTP\n",
    "def on_send_otp_button_clicked(b):\n",
    "    email = email_input.value\n",
    "    \n",
    "    if not email:\n",
    "        result_label.value = \"Please enter a valid email address.\"\n",
    "        return\n",
    "    \n",
    "    otp = generate_otp()\n",
    "    captcha = generate_captcha()\n",
    "    \n",
    "    # Send OTP email\n",
    "    if send_otp_email(email, otp):\n",
    "        otp_label.value = f\"OTP has been sent to {email}.\"\n",
    "        captcha_label.value = f\"CAPTCHA: {captcha}\"\n",
    "        otp_input_widget.layout.visibility = 'visible'\n",
    "        captcha_input_widget.layout.visibility = 'visible'\n",
    "        validate_button.layout.visibility = 'visible'\n",
    "        \n",
    "        # Store OTP and CAPTCHA in global variables for validation\n",
    "        global generated_otp, generated_captcha\n",
    "        generated_otp = otp\n",
    "        generated_captcha = captcha\n",
    "\n",
    "# Validate OTP and CAPTCHA\n",
    "def on_validate_button_clicked(b):\n",
    "    otp_input_value = otp_input_widget.value\n",
    "    captcha_input_value = captcha_input_widget.value\n",
    "    \n",
    "    result = validate_otp_and_captcha(generated_otp, generated_captcha, otp_input_value, captcha_input_value)\n",
    "    result_label.value = result\n",
    "\n",
    "# Create input widgets\n",
    "email_input = widgets.Text(description=\"Email:\")\n",
    "send_otp_button = widgets.Button(description=\"Send OTP\")\n",
    "otp_label = widgets.Label()\n",
    "captcha_label = widgets.Label()\n",
    "otp_input_widget = widgets.Text(description=\"Enter OTP:\")\n",
    "captcha_input_widget = widgets.Text(description=\"Enter CAPTCHA:\")\n",
    "validate_button = widgets.Button(description=\"Validate OTP and CAPTCHA\")\n",
    "result_label = widgets.Label()\n",
    "\n",
    "# Set the initial visibility of OTP and CAPTCHA input to 'hidden'\n",
    "otp_input_widget.layout.visibility = 'hidden'\n",
    "captcha_input_widget.layout.visibility = 'hidden'\n",
    "validate_button.layout.visibility = 'hidden'\n",
    "\n",
    "# Set button actions\n",
    "send_otp_button.on_click(on_send_otp_button_clicked)\n",
    "validate_button.on_click(on_validate_button_clicked)\n",
    "\n",
    "# Display the widgets\n",
    "display(email_input, send_otp_button, otp_label, captcha_label, otp_input_widget, captcha_input_widget, validate_button, result_label)\n"
   ]
  },
  {
   "cell_type": "code",
   "execution_count": null,
   "id": "295951c8",
   "metadata": {},
   "outputs": [],
   "source": []
  }
 ],
 "metadata": {
  "kernelspec": {
   "display_name": "Python 3 (ipykernel)",
   "language": "python",
   "name": "python3"
  },
  "language_info": {
   "codemirror_mode": {
    "name": "ipython",
    "version": 3
   },
   "file_extension": ".py",
   "mimetype": "text/x-python",
   "name": "python",
   "nbconvert_exporter": "python",
   "pygments_lexer": "ipython3",
   "version": "3.11.4"
  }
 },
 "nbformat": 4,
 "nbformat_minor": 5
}
